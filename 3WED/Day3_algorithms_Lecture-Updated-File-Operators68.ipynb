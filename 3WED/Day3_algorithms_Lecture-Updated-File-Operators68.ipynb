{
 "cells": [
  {
   "cell_type": "markdown",
   "metadata": {},
   "source": [
    "# Intro to Algorithms, Binary Search"
   ]
  },
  {
   "cell_type": "markdown",
   "metadata": {},
   "source": [
    "## Tasks Today:\n",
    " \n",
    "1) <b>In-Place Algorithms</b> <br>\n",
    " &nbsp;&nbsp;&nbsp;&nbsp; a) Syntax <br>\n",
    " &nbsp;&nbsp;&nbsp;&nbsp; a) Out of Place Algorithm <br>\n",
    " &nbsp;&nbsp;&nbsp;&nbsp; b) In-Class Exercise #1 <br>\n",
    "2) <b>Two Pointers</b> <br>\n",
    "3) <b>Sorting Algorithms</b> <br>\n",
    " &nbsp;&nbsp;&nbsp;&nbsp; a) Videos on Algorithms (Watch later) <br>\n",
    " &nbsp;&nbsp;&nbsp;&nbsp; b) Bubble Sort <br>\n",
    " &nbsp;&nbsp;&nbsp;&nbsp; c) Insertion Sort <br>\n",
    " &nbsp;&nbsp;&nbsp;&nbsp; d) Merge Sort <br>\n",
    "4) <b>Binary Search Algorithm</b> <br>\n",
    "5) <b>Exercises</b> <br>\n",
    " &nbsp;&nbsp;&nbsp;&nbsp; a) Exercise #1 - Reverse a List in Place Using an In-Place Algorithm <br>\n",
    " &nbsp;&nbsp;&nbsp;&nbsp; b) Exercise #2 - Find Distinct Words <br>\n",
    " &nbsp;&nbsp;&nbsp;&nbsp; c) Exercise #3 - Write a program to implement a Linear Search Algorithm. <br>"
   ]
  },
  {
   "cell_type": "markdown",
   "metadata": {},
   "source": [
    "## In-Place Algorithms"
   ]
  },
  {
   "cell_type": "markdown",
   "metadata": {},
   "source": [
    "#### Syntax"
   ]
  },
  {
   "cell_type": "code",
   "execution_count": 9,
   "metadata": {},
   "outputs": [
    {
     "name": "stdout",
     "output_type": "stream",
     "text": [
      "Before swap: [1, 2, 3]\n",
      "After swap: [3, 2, 1]\n"
     ]
    }
   ],
   "source": [
    "# var[i], var[i+1] = var[i+1], var[i]\n",
    "# Sometimes known as a swap algorithm\n",
    "a_list = [20,4,10]\n",
    "\n",
    "def swap(l_1, x, y, z):\n",
    "    l_1[x], l_1[y], l_1[z] = l_1[z], l_1[y], l_1[x]\n",
    "    return l_1\n",
    "\n",
    "swap(a_list,0,1,2)\n",
    "\n",
    "##########\n",
    "\n",
    "new_list = [1,2,3]\n",
    "\n",
    "print(f\"Before swap: {new_list}\")\n",
    "\n",
    "new_list[0], new_list[1], new_list[2] = new_list[2], new_list[1], new_list[0]\n",
    "\n",
    "print(f'After swap: {new_list}')\n",
    "\n"
   ]
  },
  {
   "cell_type": "markdown",
   "metadata": {},
   "source": [
    "#### Out of Place Algorithm"
   ]
  },
  {
   "cell_type": "code",
   "execution_count": 12,
   "metadata": {},
   "outputs": [
    {
     "name": "stdout",
     "output_type": "stream",
     "text": [
      "[8, 7, 6, 5, 4, 3, 2, 1]\n",
      "[1, 2, 3, 4, 5, 6, 7, 8]\n",
      "[8, 7, 6, 5, 4, 3, 2, 1]\n"
     ]
    }
   ],
   "source": [
    "# not swapping in place - takes an entire new slot in memory to perform this action\n",
    "my_list = [1,2,3,4,5,6,7,8]\n",
    "\n",
    "my_list_copy = my_list[::-1]\n",
    "\n",
    "print(my_list_copy)\n",
    "print(my_list)\n",
    "\n",
    "\n",
    "\n",
    "\n",
    "my_new_copy = ['','','','','','','','']\n",
    "\n",
    "for i in range(len(my_list)):\n",
    "    my_new_copy[i] = my_list[(len(my_list)-1)-i]\n",
    "    \n",
    "print(my_new_copy)"
   ]
  },
  {
   "cell_type": "markdown",
   "metadata": {},
   "source": [
    "#### In-Class Exercise #1 <br>\n",
    "<p>Write a function that takes in four arguments (list, index1, index2, index3), and swaps those three positions in the list passed in.</p>"
   ]
  },
  {
   "cell_type": "code",
   "execution_count": 15,
   "metadata": {},
   "outputs": [
    {
     "data": {
      "text/plain": [
       "[10, 4, 8, 4, 3, 2, 6]"
      ]
     },
     "execution_count": 15,
     "metadata": {},
     "output_type": "execute_result"
    }
   ],
   "source": [
    "l_1 = [10, 4, 3, 8, 4, 2, 6]\n",
    "\n",
    "def listSwap(a_list, x, y, z):\n",
    "    a_list[x], a_list[y], a_list[z] = a_list[y], a_list[z], a_list[x]\n",
    "    return a_list\n",
    "\n",
    "listSwap(l_1,2,3,4)"
   ]
  },
  {
   "cell_type": "markdown",
   "metadata": {},
   "source": [
    "## Two Pointers"
   ]
  },
  {
   "cell_type": "markdown",
   "metadata": {},
   "source": [
    "#### Syntax"
   ]
  },
  {
   "cell_type": "code",
   "execution_count": 17,
   "metadata": {},
   "outputs": [
    {
     "data": {
      "text/plain": [
       "[22, 11, 4, 8, 9, 12, 3, 2, 1]"
      ]
     },
     "execution_count": 17,
     "metadata": {},
     "output_type": "execute_result"
    }
   ],
   "source": [
    "# alist[i], alist[j] = alist[j], alist[i]\n",
    "# using two specific values to swap with\n",
    "# typically, 2 pointers are inside of a while loop\n",
    "my_list2 = [1,2,3,12,9,8,4,11,22]\n",
    "\n",
    "def reverseList(alist):\n",
    "    # Create 2 pointers\n",
    "    left = 0\n",
    "    right = len(alist)-1\n",
    "    while left < right:\n",
    "        alist[left], alist[right] = alist[right], alist[left]\n",
    "        left +=1\n",
    "        right -=1\n",
    "        \n",
    "    return alist\n",
    "reverseList(my_list2)"
   ]
  },
  {
   "cell_type": "markdown",
   "metadata": {},
   "source": [
    "#### Video of Algorithms <br>\n",
    "<p>Watch the video about algorithms.</p>\n",
    "\n",
    "https://www.youtube.com/watch?v=Q9HjeFD62Uk\n",
    "\n",
    "https://www.youtube.com/watch?v=kPRA0W1kECg\n",
    "\n",
    "https://www.youtube.com/watch?v=ZZuD6iUe3Pc"
   ]
  },
  {
   "cell_type": "markdown",
   "metadata": {},
   "source": [
    "# Sorting Algorithms"
   ]
  },
  {
   "cell_type": "markdown",
   "metadata": {},
   "source": [
    "#### Bubble Sort\n",
    "\n",
    "Worst Case: O(n^2) Time - O(1) Space"
   ]
  },
  {
   "cell_type": "code",
   "execution_count": 19,
   "metadata": {},
   "outputs": [
    {
     "data": {
      "text/plain": [
       "[0, 4, 6, 13, 16, 28]"
      ]
     },
     "execution_count": 19,
     "metadata": {},
     "output_type": "execute_result"
    }
   ],
   "source": [
    "# Swap Helper\n",
    "def swap(i, j, array):\n",
    "    array[i], array[j] = array[j], array[i]\n",
    "\n",
    "def bubbleSort(array):\n",
    "    isSorted = False #Flag\n",
    "    while not isSorted:\n",
    "        isSorted = True\n",
    "        for num in range(len(array)-1):\n",
    "            if array[num] > array[num+1]:\n",
    "                swap(num, num+1, array)\n",
    "                isSorted = False\n",
    "    return array\n",
    "    \n",
    "some_list = [16, 28, 4, 6, 0, 13]\n",
    "\n",
    "bubbleSort(some_list)\n",
    "    \n",
    "    "
   ]
  },
  {
   "cell_type": "markdown",
   "metadata": {},
   "source": [
    "##### Insertion Sort\n",
    "\n",
    "Worst Case: O(n^2) time - O(1)space"
   ]
  },
  {
   "cell_type": "code",
   "execution_count": null,
   "metadata": {},
   "outputs": [],
   "source": [
    "# Swap Helper\n",
    "def swap(i, j, array):\n",
    "    array[i], array[j] = array[j], array[i]\n",
    "\n",
    "def insertionSort(array):\n",
    "    for i in range(1, len(array)):\n",
    "        j = i\n",
    "        while j>0 and array[j] < array[j-1]:\n",
    "            swap(j, j-1, array)\n",
    "            j -= 1\n",
    "    return array"
   ]
  },
  {
   "cell_type": "markdown",
   "metadata": {},
   "source": [
    "## Merge Sort"
   ]
  },
  {
   "cell_type": "markdown",
   "metadata": {},
   "source": [
    "#### How it Works"
   ]
  },
  {
   "cell_type": "code",
   "execution_count": 25,
   "metadata": {},
   "outputs": [
    {
     "name": "stdout",
     "output_type": "stream",
     "text": [
      "Splitting... [13, 8, 16, 10, 17]\n",
      "Splitting... [13, 8]\n",
      "Splitting... [13]\n",
      "Merging:  [13]\n",
      "Splitting... [8]\n",
      "Merging:  [8]\n",
      "Merging:  [8, 13]\n",
      "Splitting... [16, 10, 17]\n",
      "Splitting... [16]\n",
      "Merging:  [16]\n",
      "Splitting... [10, 17]\n",
      "Splitting... [10]\n",
      "Merging:  [10]\n",
      "Splitting... [17]\n",
      "Merging:  [17]\n",
      "Merging:  [10, 17]\n",
      "Merging:  [10, 16, 17]\n",
      "Merging:  [8, 10, 13, 16, 17]\n"
     ]
    },
    {
     "data": {
      "text/plain": [
       "[8, 10, 13, 16, 17]"
      ]
     },
     "execution_count": 25,
     "metadata": {},
     "output_type": "execute_result"
    }
   ],
   "source": [
    "# Step 1: Split everything into its own group\n",
    "# Step 2: from left to right, merge the groups\n",
    "# Step 3: place each item in correct sorted order as merge happens\n",
    "# Step 4: Repeat steps 1-3 until we are done!\n",
    "\n",
    "from random import randint\n",
    "# used to generate a list of random integers\n",
    "nums = [randint(0,20) for i in range(5)]\n",
    "\n",
    "# Merge Sort Implementation\n",
    "def mergeSort(alist):\n",
    "    print('Splitting...', alist)\n",
    "    \n",
    "    #Step 1: divide this array into equal parts as many times as possible\n",
    "    if len(alist) > 1:\n",
    "        mid = len(alist) // 2\n",
    "        lefthalf = alist[:mid]\n",
    "        righthalf = alist[mid:]\n",
    "        \n",
    "        #recursively call this mergeSort on splits until they all have a len == 1\n",
    "        mergeSort(lefthalf)\n",
    "        mergeSort(righthalf)\n",
    "    \n",
    "        \n",
    "        # index pointers for our list\n",
    "        i = 0 #pointer for left half\n",
    "        j = 0 #pointer for right half\n",
    "        k = 0 #pointer for main array or original list\n",
    "    \n",
    "        # Step 2 - compare left half to right half\n",
    "        while i < len(lefthalf) and j < len(righthalf):\n",
    "            if lefthalf[i] < righthalf[j]:\n",
    "                alist[k] = lefthalf[i]\n",
    "                i += 1\n",
    "            else:\n",
    "                alist[k] = righthalf[j]\n",
    "                j += 1\n",
    "            k += 1\n",
    "            \n",
    "        # Step 3 - Merging back together\n",
    "        while i < len(lefthalf):\n",
    "            alist[k] = lefthalf[i]\n",
    "            i += 1\n",
    "            k += 1\n",
    "            \n",
    "        while j < len(righthalf):\n",
    "            alist[k] = righthalf[j]\n",
    "            j += 1\n",
    "            k += 1\n",
    "    \n",
    "    print(\"Merging: \", alist)\n",
    "    return alist\n",
    "    \n",
    "mergeSort(nums)\n",
    "    \n",
    "    \n"
   ]
  },
  {
   "cell_type": "markdown",
   "metadata": {},
   "source": [
    "# Binary Search\n",
    "\n",
    "The Binary Search algorithm works by finding the number in the middle of a given array and comparing it to the target. Given that the array is sorted\n",
    "\n",
    "* The worst case run time for this algorithm is `O(log(n))`"
   ]
  },
  {
   "cell_type": "code",
   "execution_count": 27,
   "metadata": {},
   "outputs": [
    {
     "data": {
      "text/plain": [
       "'The index is 4'"
      ]
     },
     "execution_count": 27,
     "metadata": {},
     "output_type": "execute_result"
    }
   ],
   "source": [
    "# left = less\n",
    "# right = greater\n",
    "# LIST MUST BE SORTED\n",
    "\n",
    "\n",
    "def binSearchHelper(array, target, left, right):\n",
    "    while left <= right:\n",
    "        middle = (left + right) // 2\n",
    "        potential_match = array[middle]\n",
    "        if target == potential_match:\n",
    "            return f'The index is {middle}'\n",
    "        elif target < potential_match:\n",
    "            right = middle - 1\n",
    "        else:\n",
    "            left = middle + 1\n",
    "    return f'There is no value of {target} stored here...'\n",
    "\n",
    "def binarySearch(array, target):\n",
    "    return binSearchHelper(array, target, 0, len(array)-1)\n",
    "\n",
    "binarySearch([22, 44, 55, 66, 88, 100], 88)"
   ]
  },
  {
   "cell_type": "markdown",
   "metadata": {},
   "source": [
    "# Exercises"
   ]
  },
  {
   "cell_type": "markdown",
   "metadata": {},
   "source": [
    "### Exercise #1 <br>\n",
    "<p>Reverse the list below in-place using an in-place algorithm.<br>For extra credit: Reverse the strings at the same time.</p>"
   ]
  },
  {
   "cell_type": "code",
   "execution_count": 43,
   "metadata": {},
   "outputs": [
    {
     "data": {
      "text/plain": [
       "['.', 'sentence', 'a', 'is', 'this']"
      ]
     },
     "execution_count": 43,
     "metadata": {},
     "output_type": "execute_result"
    }
   ],
   "source": [
    "words = ['this' , 'is', 'a', 'sentence', '.']\n",
    "# Two pointers method\n",
    "\n",
    "# def reverseThisItem(item):\n",
    "#     left = 0\n",
    "#     right = len(item)-1\n",
    "#     while left<right:\n",
    "#         item[left], item[right] = item[right], item[left]\n",
    "#         left += 1\n",
    "#         right -= 1\n",
    "#     return item\n",
    "\n",
    "def reverseThisList(a_list):\n",
    "    left = 0\n",
    "    right = len(a_list)-1\n",
    "    while left<right:\n",
    "        a_list[left], a_list[right] = a_list[right], a_list[left]\n",
    "        left += 1\n",
    "        right -= 1\n",
    "#     for item in a_list:\n",
    "#         new_item = [char for char in item]\n",
    "#         item = reverseThisItem(new_item)\n",
    "    \n",
    "    return a_list\n",
    "\n",
    "reverseThisList(words)\n",
    "\n",
    "# commented out my attemps at simultaneously reversing the strings"
   ]
  },
  {
   "cell_type": "markdown",
   "metadata": {},
   "source": [
    "### Exercise #2 <br>\n",
    "<p>Create a function that counts how many distinct words are in the string below, then outputs a dictionary with the words as the key and the value as the amount of times that word appears in the string.<br>Should output:<br>{'a': 5,<br>\n",
    " 'abstract': 1,<br>\n",
    " 'an': 3,<br>\n",
    " 'array': 2, ... etc...</p>"
   ]
  },
  {
   "cell_type": "code",
   "execution_count": 93,
   "metadata": {},
   "outputs": [
    {
     "data": {
      "text/plain": [
       "{'a': 5,\n",
       " 'abstract': 1,\n",
       " 'an': 3,\n",
       " 'array': 2,\n",
       " 'associative': 1,\n",
       " 'be': 1,\n",
       " 'buckets': 1,\n",
       " 'can': 2,\n",
       " 'compute': 1,\n",
       " 'computing': 1,\n",
       " 'data': 2,\n",
       " 'desired': 1,\n",
       " 'found': 1,\n",
       " 'from': 1,\n",
       " 'function': 1,\n",
       " 'hash': 4,\n",
       " 'implements': 1,\n",
       " 'in': 1,\n",
       " 'index': 1,\n",
       " 'into': 1,\n",
       " 'is': 1,\n",
       " 'keys': 1,\n",
       " 'map': 2,\n",
       " 'of': 1,\n",
       " 'or': 1,\n",
       " 'slots': 1,\n",
       " 'structure': 2,\n",
       " 'table': 2,\n",
       " 'that': 1,\n",
       " 'the': 1,\n",
       " 'to': 2,\n",
       " 'type': 1,\n",
       " 'uses': 1,\n",
       " 'value': 1,\n",
       " 'values': 1,\n",
       " 'which': 2}"
      ]
     },
     "execution_count": 93,
     "metadata": {},
     "output_type": "execute_result"
    }
   ],
   "source": [
    "a_text = 'In computing, a hash table hash map is a data structure which implements an associative array abstract data type, a structure that can map keys to values. A hash table uses a hash function to compute an index into an array of buckets or slots from which the desired value can be found'\n",
    "\n",
    "# split a_text into seperate list items\n",
    "# list comprehend with strip(), lower(), & sorted()\n",
    "# loop through final list and add to dict: k/v = word (str) / appearances (int)\n",
    "\n",
    "def wordCounter(a_list):\n",
    "    word_dict = {}\n",
    "    split_list = a_list.split()\n",
    "    strip_list = sorted([word.lower().strip(\",.\") for word in split_list])\n",
    "    for word in strip_list:\n",
    "        if word in word_dict:\n",
    "            word_dict[word] += 1\n",
    "        else:\n",
    "            word_dict[word] = 1\n",
    "    return word_dict\n",
    "\n",
    "wordCounter(a_text)"
   ]
  },
  {
   "cell_type": "markdown",
   "metadata": {},
   "source": [
    "## Exercise #3\n",
    "\n",
    "Write a program to implement a Linear Search Algorithm.\n",
    "\n",
    "#### Hint: Linear Searching will require searching a list for a given number. "
   ]
  },
  {
   "cell_type": "code",
   "execution_count": 98,
   "metadata": {},
   "outputs": [
    {
     "data": {
      "text/plain": [
       "'The number you seek, \"55\" is at index 5.'"
      ]
     },
     "execution_count": 98,
     "metadata": {},
     "output_type": "execute_result"
    }
   ],
   "source": [
    "# def funct using for loop to search for item in list\n",
    "# return index of item in list when found\n",
    "\n",
    "my_list = [2, 3, 66, 22, 99, 55, 101, 24, 39, 11, 32, 87]\n",
    "\n",
    "def linearSearch(a_list, num):\n",
    "    counter = 0\n",
    "    for item in a_list:\n",
    "        if item == num:\n",
    "            return f'The number you seek, \"{num}\" is at index {counter}.'\n",
    "        counter += 1\n",
    "    return f'The number you seek, \"{num}\" is not in the list you provided.'\n",
    "        \n",
    "linearSearch(my_list, 55)"
   ]
  },
  {
   "cell_type": "code",
   "execution_count": null,
   "metadata": {},
   "outputs": [],
   "source": []
  }
 ],
 "metadata": {
  "kernelspec": {
   "display_name": "Python 3",
   "language": "python",
   "name": "python3"
  },
  "language_info": {
   "codemirror_mode": {
    "name": "ipython",
    "version": 3
   },
   "file_extension": ".py",
   "mimetype": "text/x-python",
   "name": "python",
   "nbconvert_exporter": "python",
   "pygments_lexer": "ipython3",
   "version": "3.8.8"
  }
 },
 "nbformat": 4,
 "nbformat_minor": 2
}
