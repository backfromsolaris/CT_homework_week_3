{
 "cells": [
  {
   "cell_type": "code",
   "execution_count": 14,
   "id": "b5eaeb0e",
   "metadata": {},
   "outputs": [
    {
     "name": "stdout",
     "output_type": "stream",
     "text": [
      "Please enter the current value of your property (no commas): $400,000\n",
      "{'Prop Value': 400000}\n"
     ]
    }
   ],
   "source": [
    "from IPython.display import clear_output\n",
    "\n",
    "\n",
    "class ROIcalc():\n",
    "    \n",
    "    def __init__(self, user_name = \"\", user_info = {}):\n",
    "        self.user_name = user_name\n",
    "        self.user_info = user_info\n",
    "        \n",
    "    \n",
    "    # method for recording basic info \n",
    "    def basicInfo(self, user_name, location):\n",
    "        user_name = input(\"Please enter your full name: \")\n",
    "        user_info.self[\"Name\"] = user_name\n",
    "        location = input(\"Where is the property located?\")\n",
    "        user_info.self[\"Location\"] = location\n",
    "        \n",
    "    # method for recording necessary user expenses\n",
    "    def basic_expenses(self):\n",
    "        home_value = input(\"Please enter the current value of your property (no commas): $\")\n",
    "        home_value = int(home_value.strip(\",$.\").replace(\",\", \"\"))\n",
    "        self.user_info[\"Prop Value\"] = home_value\n",
    "        \n",
    "    # method for recording more intricate details (prop management expenses)\n",
    "    \n",
    "    # method for recording prop income\n",
    "    \n",
    "    # method for calculating cash flow\n",
    "    \n",
    "    # method for finalizing ROI quote (records investment details & calculates ROI)\n",
    "    \n",
    "    \n",
    "    \n",
    "# ROI Calc instance for each user that logs in\n",
    "userCalc = ROIcalc()\n",
    "\n",
    "userCalc.basic_expenses()\n"
   ]
  },
  {
   "cell_type": "code",
   "execution_count": null,
   "id": "45ca1a2e",
   "metadata": {},
   "outputs": [],
   "source": []
  }
 ],
 "metadata": {
  "kernelspec": {
   "display_name": "Python 3",
   "language": "python",
   "name": "python3"
  },
  "language_info": {
   "codemirror_mode": {
    "name": "ipython",
    "version": 3
   },
   "file_extension": ".py",
   "mimetype": "text/x-python",
   "name": "python",
   "nbconvert_exporter": "python",
   "pygments_lexer": "ipython3",
   "version": "3.8.8"
  }
 },
 "nbformat": 4,
 "nbformat_minor": 5
}
