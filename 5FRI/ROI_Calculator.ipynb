{
 "cells": [
  {
   "cell_type": "code",
   "execution_count": 30,
   "id": "b5eaeb0e",
   "metadata": {},
   "outputs": [
    {
     "name": "stdout",
     "output_type": "stream",
     "text": [
      "Please enter your full name: sadf\n",
      "Where is the property located? asdf\n",
      "Do you have a nickname for this property? asdf\n",
      "{'Name': 'sadf', 'Location': 'asdf', 'Prop Name': 'asdf'}\n"
     ]
    }
   ],
   "source": [
    "from IPython.display import clear_output\n",
    "\n",
    "\n",
    "class ROIcalc():\n",
    "    \n",
    "    def __init__(self, user_name = \"\", basic_info = {}, detailed_info = {}):\n",
    "        self.user_name = user_name\n",
    "        self.basic_info = basic_info\n",
    "        self.detailed_info = detailed_info\n",
    "    \n",
    "    # method for recording basic info \n",
    "    def basicInfo(self, user_name = \"\", location = \"\"):\n",
    "        user_name = input(\"Please enter your full name: \")\n",
    "        self.basic_info[\"Name\"] = user_name\n",
    "        location = input(\"Where is the property located? \")\n",
    "        self.basic_info[\"Location\"] = location\n",
    "        loc_nickname = input(\"Do you have a nickname for this property? \")\n",
    "        self.basic_info[\"Prop Name\"] = loc_nickname\n",
    "        clear_output()\n",
    "        \n",
    "    # method for recording necessary user expenses\n",
    "    def basic_expenses(self):\n",
    "        home_value = input(\"Please enter the current value of your property (no commas): $\")\n",
    "        home_value = int(home_value.strip(\",$.\").replace(\",\", \"\"))\n",
    "        self.basic_info[\"Prop Value\"] = home_value\n",
    "        clear_output()\n",
    "        prop_tax = input(\"Enter your applicable property tax (percentage): \")\n",
    "        prop_tax = (int(prop_tax.strip(\"%.\")) *.01)\n",
    "        self.basic_info[\"Prop Tax\"] = prop_tax\n",
    "        clear_output()\n",
    "        mortgage = input(\"Enter your monthly mortgage payment: $\")\n",
    "        annual_mortgage = (int(mortgage.strip(\".\")))*12\n",
    "        self.basic_info[\"Annual Mortgage Cost\"] = annual_mortgage\n",
    "        clear_output()\n",
    "        insurance = input(\"What is your monthly insurance cost? $\")\n",
    "        insurance = int(insurance.strip(\",$.\").replace(\",\", \"\"))\n",
    "        self.basic_info[\"Insurance\"] = insurance\n",
    "        clear_output()\n",
    "        \n",
    "    # method for recording more intricate details (prop management expenses)\n",
    "    def detailed_expenses(self):\n",
    "        pass\n",
    "    \n",
    "    # method for displaying basic & detailed info\n",
    "    \n",
    "    # method for recording prop income\n",
    "    \n",
    "    # method for calculating cash flow\n",
    "    \n",
    "    # method for finalizing ROI quote (records investment details & calculates ROI)\n",
    "    \n",
    "    \n",
    "    \n",
    "# ROI Calc instance for each user that logs in\n",
    "userCalc = ROIcalc()\n",
    "\n",
    "\n"
   ]
  },
  {
   "cell_type": "code",
   "execution_count": null,
   "id": "b3139d88",
   "metadata": {},
   "outputs": [],
   "source": []
  }
 ],
 "metadata": {
  "kernelspec": {
   "display_name": "Python 3",
   "language": "python",
   "name": "python3"
  },
  "language_info": {
   "codemirror_mode": {
    "name": "ipython",
    "version": 3
   },
   "file_extension": ".py",
   "mimetype": "text/x-python",
   "name": "python",
   "nbconvert_exporter": "python",
   "pygments_lexer": "ipython3",
   "version": "3.8.8"
  }
 },
 "nbformat": 4,
 "nbformat_minor": 5
}
